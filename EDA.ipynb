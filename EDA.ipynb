{
 "cells": [
  {
   "cell_type": "markdown",
   "metadata": {},
   "source": [
    "TITLE: Exploratory Data Analysis on Urban Data\n",
    "AUTHOR: Emily Chen\n",
    "\n",
    "HELP/REFERENCE ACKNOWLEDGEMENT\n",
    "Persons: \n",
    "ONLINE SOURCES: \n",
    "\n",
    "BUGS: None.\n"
   ]
  },
  {
   "cell_type": "markdown",
   "metadata": {},
   "source": []
  }
 ],
 "metadata": {
  "language_info": {
   "name": "python"
  }
 },
 "nbformat": 4,
 "nbformat_minor": 2
}
